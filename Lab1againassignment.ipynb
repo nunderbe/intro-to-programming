{
 "cells": [
  {
   "cell_type": "code",
   "execution_count": 0,
   "metadata": {},
   "outputs": [],
   "source": [
    "# Change directory to VSCode workspace root so that relative path loads work correctly. Turn this addition off with the DataScience.changeDirOnImportExport setting\n",
    "# ms-python.python added\n",
    "import os\n",
    "try:\n",
    "\tos.chdir(os.path.join(os.getcwd(), '..'))\n",
    "\tprint(os.getcwd())\n",
    "except:\n",
    "\tpass\n"
   ]
  },
  {
   "cell_type": "markdown",
   "metadata": {},
   "source": [
    "  # Lab 1: Programming Concept Review\n",
    "  In this lab, you will practice using Python by first modifying code to achieve\n",
    "  certain results. At the end of this lab, you will have written a new function\n",
    "  based on a set of requirements."
   ]
  },
  {
   "cell_type": "markdown",
   "metadata": {},
   "source": [
    "  ## Completing Labs\n",
    "  This lab is available as a Jupyter Notebook file (.ipynb). You can import it\n",
    "  into Visual Studio Code and see the file as a python file. This can be done\n",
    "  through the command pallette (Ctrl+Shift+P on Windows, Command+Shift+P on Mac\n",
    "  and select \"Python: Import Jupyter Notebook\")\n",
    "\n",
    "  You should complete the lab by making modifications to the code in each cell.\n",
    "  Run each cell in VS Code (or in Jupyter) both before and after modifying the\n",
    "  code.\n",
    "\n",
    "  You can run a cell by either clicking the \"Run Cell\" link above the cell or by\n",
    "  holding ctrl (command on bac) and pressing enter.\n",
    "\n",
    "  ## Modifying Code\n",
    "  Instructions to modify code is provided after the initial code, beginning with\n",
    "  the phrase \"ON YOUR OWN:\". The expected output will be provided where it makes\n",
    "  sense."
   ]
  },
  {
   "cell_type": "markdown",
   "metadata": {},
   "source": [
    "  # Values\n",
    "\n",
    "  In programming, the term \"value\" means a piece of data. They can be one of\n",
    "  four simple types:\n",
    "  ## *Numbers*\n",
    "  integer (`int`, which represents a positive or negative whole number, like -1\n",
    "  or 100), or a real number (`float`, which is a representation of a fractional\n",
    "  number with a decimal part, such as `1.2`).\n",
    "\n",
    "  Strings are also simple values in python, and are given the type identifier\n",
    "  `str`.\n",
    "  The four types are:\n",
    "  - *String*: (`str`): A sequence of characters using single quotes ('')\n",
    "  - *Integer*: (`int`): integer\n",
    "  - *Float*: (`float`): floating point number\n",
    "  - *Boolean*: (`bool`): Either `True` or `False`, useful for conditional expressions."
   ]
  },
  {
   "cell_type": "markdown",
   "metadata": {},
   "source": [
    "  ON YOUR OWN: Type an example value for each of the four types of values in this cell below each comment:\n",
    "  string\n",
    "  int\n",
    "  float\n",
    "  bool"
   ]
  },
  {
   "cell_type": "markdown",
   "metadata": {},
   "source": [
    "  # Types\n",
    "  You can discover the type of any value by using the method \"type.\" Methods are\n",
    "  \"invoked\" or \"called\" by use of parens:"
   ]
  },
  {
   "cell_type": "code",
   "execution_count": 0,
   "metadata": {},
   "outputs": [],
   "source": [
    "type(5) # Will print the \"int\" to the console. \n"
   ]
  },
  {
   "cell_type": "markdown",
   "metadata": {},
   "source": [
    "  # Variables\n",
    "  In programming, variables are names that specify a location for values. For\n",
    "  instance, this statement creates a place with the name `a` and *assigns* or\n",
    "  *initializes* it to the value 5"
   ]
  },
  {
   "cell_type": "code",
   "execution_count": 0,
   "metadata": {},
   "outputs": [],
   "source": [
    "a = 5\n",
    "\n"
   ]
  },
  {
   "cell_type": "code",
   "execution_count": 0,
   "metadata": {},
   "outputs": [],
   "source": [
    "# If you enter a variable without first defining it, you will receive a NameError:\n",
    "b\n",
    "\n"
   ]
  },
  {
   "cell_type": "code",
   "execution_count": 0,
   "metadata": {},
   "outputs": [],
   "source": [
    "\n",
    "# *ON YOUR OWN:* Assign an integer to the variable `b` above so that no error\n",
    "# will result and re-run this cell.\n",
    "\n",
    "b = 5\n",
    "try:\n",
    "    if(type(b)==type(0)):\n",
    "        print(\"Well done.\")\n",
    "    else:\n",
    "        print(\"b is not assigned a value of an integer type\")\n",
    "except:\n",
    "    print(\"Make sure to initialize b to a value in the session\")\n"
   ]
  },
  {
   "cell_type": "markdown",
   "metadata": {},
   "source": [
    "\n",
    "  The variable `a` can be assigned another value later, as each instruction is\n",
    "  executed one after the next. The \"=\" symbol, which in math denotes equality,\n",
    "  is used in the \"assignment\" statement. When you read the following line, read\n",
    "  it as \"a is assigned the value 6\""
   ]
  },
  {
   "cell_type": "markdown",
   "metadata": {},
   "source": [
    "  *ON YOUR OWN:* Add additional lines of code below that assign and then print the value of a with the following values:\n",
    "  - \"Hello World\"\n",
    "  - 42.0\n",
    "  - True"
   ]
  },
  {
   "cell_type": "code",
   "execution_count": 0,
   "metadata": {},
   "outputs": [],
   "source": [
    "a = \"Hello World\"\n"
   ]
  },
  {
   "cell_type": "code",
   "execution_count": 0,
   "metadata": {},
   "outputs": [],
   "source": [
    "a = 42.0\n"
   ]
  },
  {
   "cell_type": "code",
   "execution_count": 0,
   "metadata": {},
   "outputs": [],
   "source": [
    "a = True"
   ]
  },
  {
   "cell_type": "markdown",
   "metadata": {},
   "source": [
    "  # Expressions\n",
    "  Expressions are instructions to combine one or more variables or values.\n",
    "  Simple expressions include arithmetic expressions that produce the result:\n",
    "  The following expression will produce the value 8 using the \"+\" (integer addition) operator\n",
    "  # Parentheses\n",
    "  You can also force the program to evaluate expressions in a particular order\n",
    "  using parentheses. For instance, the following two lines result in different\n",
    "  orders of execution:"
   ]
  },
  {
   "cell_type": "markdown",
   "metadata": {},
   "source": [
    "  # Operators\n",
    "  Operators are one or more characters that designate a particular operation.\n",
    "  These include \"+\", \"-\", \"/\" and \"*\", but also include the function call\n",
    "  operator `()` and the member operator\n"
   ]
  },
  {
   "cell_type": "markdown",
   "metadata": {},
   "source": [
    "  # Functions\n",
    "  Functions are bundles of code that can be executed multiple times. They are\n",
    "  \"called\" using a list of *arguments*. For instance, `print()` takes one or\n",
    "  more arguments and prints the values to the output\n",
    "  The function `print()` does not return a value. Instead, it causes the\n",
    "  argument to appear in the output of the program. This is an important\n",
    "  distinction, as you will not be able to combine functions with no output in\n",
    "  the same way as you can combine those that return a value."
   ]
  },
  {
   "cell_type": "markdown",
   "metadata": {},
   "source": [
    "  ## Defining a function\n",
    "  The function below, `my_print`, will execute the single instruction when it is called.\n",
    "  To define a function, use the following syntax:"
   ]
  },
  {
   "cell_type": "markdown",
   "metadata": {},
   "source": [
    "  ## Calling a function\n",
    "  To call a function that has previously been defined, you use the name of the function:"
   ]
  },
  {
   "cell_type": "markdown",
   "metadata": {},
   "source": [
    "  ## Return values\n",
    "  A function can *return* a value. This means that where the function was\n",
    "  called, the value is substituted. For a simple example, the function below, `return_four`\n",
    "  returns the integer 4. Its return value can be used in arithmetic expressions."
   ]
  },
  {
   "cell_type": "markdown",
   "metadata": {},
   "source": [
    "  in expressions by printing an expression that adds 3 to the returned value."
   ]
  },
  {
   "cell_type": "markdown",
   "metadata": {},
   "source": [
    "\n",
    "  *ON YOUR OWN:* Write a function that returns the string \"!\" (exclamation),\n",
    "  called \"exclaim\", and use it to concatenate the returned value to the string\n",
    "  \"Hello World\" in a print statement."
   ]
  },
  {
   "cell_type": "code",
   "execution_count": 0,
   "metadata": {},
   "outputs": [],
   "source": [
    "def exclaim(sequence):\n",
    "    sequence = !\n",
    "    print(\"Hello World\")\n",
    "\n",
    "def exclaim(!)\n",
    "\n",
    "def exclaim(\"Hello World\")\n"
   ]
  },
  {
   "cell_type": "code",
   "execution_count": 0,
   "metadata": {},
   "outputs": [],
   "source": [
    "def exclaim(sequence):\n"
   ]
  },
  {
   "cell_type": "code",
   "execution_count": 0,
   "metadata": {},
   "outputs": [],
   "source": [
    "def exclaim(sequence):\n",
    "    sequence = '!'\n",
    "    print \"Hello World\" + sequence\n"
   ]
  },
  {
   "cell_type": "code",
   "execution_count": 0,
   "metadata": {},
   "outputs": [],
   "source": [
    "def exclaim(sequence):\n",
    "    sequence = '!'\n",
    "    print(\"Hello World\" + sequence)\n"
   ]
  },
  {
   "cell_type": "code",
   "execution_count": 0,
   "metadata": {},
   "outputs": [],
   "source": [
    "def exclaim (\"Hello World\")"
   ]
  },
  {
   "cell_type": "markdown",
   "metadata": {},
   "source": [
    "  ## Parameters and Arguments\n",
    "  A *parameter* is the local variable that is associated with a function. The\n",
    "  function `f1` below has a single parameter, and it adds 1 to the value passed\n",
    "  in as an argument."
   ]
  },
  {
   "cell_type": "markdown",
   "metadata": {},
   "source": [
    "\n",
    "  *ON YOUR OWN:* In this cell, Modify the function `multiply_2` to accept two\n",
    "  arguments and returns the result of multiplying them together. You may name\n",
    "  the arguments anything you want"
   ]
  },
  {
   "cell_type": "code",
   "execution_count": 0,
   "metadata": {},
   "outputs": [],
   "source": [
    "def multiply_2(sequence):\n",
    "    return sequence * 2\n"
   ]
  },
  {
   "cell_type": "code",
   "execution_count": 0,
   "metadata": {},
   "outputs": [],
   "source": [
    "def multiply_2(sequence):\n",
    "    for element in sequence:\n",
    "        return sequence * sequence\n"
   ]
  },
  {
   "cell_type": "code",
   "execution_count": 0,
   "metadata": {},
   "outputs": [],
   "source": [
    "multiply_2(2, 3)\n"
   ]
  },
  {
   "cell_type": "code",
   "execution_count": 0,
   "metadata": {},
   "outputs": [],
   "source": [
    "def mulitply_2(first, second):\n",
    "    third = first * second\n",
    "    return third\n",
    "\n",
    "first = 1\n",
    "second = 2\n",
    "third = 2\n"
   ]
  },
  {
   "cell_type": "code",
   "execution_count": 0,
   "metadata": {},
   "outputs": [],
   "source": [
    "def mulitply_2(first, second):\n",
    "    third = first * second\n",
    "    return third\n",
    "\n",
    "multiply_2(2, 3)"
   ]
  },
  {
   "cell_type": "code",
   "execution_count": 0,
   "metadata": {},
   "outputs": [],
   "source": [
    "\n",
    "\n"
   ]
  },
  {
   "cell_type": "markdown",
   "metadata": {},
   "source": [
    "  # Conditionals and Tests\n",
    "  One of the advantages of having a computer execute instructions is that it can\n",
    "  also change its execution based on the values. You can conditionally execute\n",
    "  code by using the \"if\" statement that uses the keyword `if` The keyword is\n",
    "  followed by an expression that evaluates to a Boolean value, `True` or\n",
    "  `False,` followed by a colon and a body of code.\n",
    "\n",
    "  Conventionally, you place the \"conditional\" expresison inside parentheses."
   ]
  },
  {
   "cell_type": "markdown",
   "metadata": {},
   "source": [
    "  ## elif and else\n",
    "  You can handle alternative cases by using the `elif` and `else` keywords,\n",
    "  followed by colons. Like before, the statements that are indented below are\n",
    "  executed. The expression \"str(input)\" casts the value of input (which is\n",
    "  expected to be an integer) into a string in order to concatenate it with\n",
    "  another string.\n"
   ]
  },
  {
   "cell_type": "markdown",
   "metadata": {},
   "source": [
    "\n",
    "  *ON YOUR OWN*: Write a new version of the function that compares the input\n",
    "  with a second argument and name it \"compare\":\n",
    "  For instance, calling it with the following arguments should result in the following printed output:\n",
    "  compare(3,3)\n",
    "  3 is equal to 3\n",
    "  compare(10,3)\n",
    "  10 is greater than 3"
   ]
  },
  {
   "cell_type": "code",
   "execution_count": 0,
   "metadata": {},
   "outputs": [],
   "source": [
    "def compare(first, second):\n",
    "    if first == second:\n",
    "        return \"first is equal to second\"\n",
    "    if first > second:\n",
    "        return \"first is greater than second\"\n",
    "\n",
    "compare(2, 2)\n",
    "\n",
    "compare(3, 2)"
   ]
  },
  {
   "cell_type": "code",
   "execution_count": 0,
   "metadata": {},
   "outputs": [],
   "source": [
    "compare(2,2)"
   ]
  },
  {
   "cell_type": "markdown",
   "metadata": {},
   "source": [
    "  # Scope\n",
    "  The last topic covered in this part of the lab is the concept of scope. Scope\n",
    "  refers to the fact that at each point in a code's execution, certain variables\n",
    "  may be available. Parameters, for instance, are only available within the body of a function.\n",
    "  Any variable declared in the outer scope may be available inside of a function.\n",
    "  For example:"
   ]
  },
  {
   "cell_type": "markdown",
   "metadata": {},
   "source": [
    "  If a variable is declared inside of a function has the same name as the outer variable, it will \"shadow\" it:\n",
    "  This will set the local variable x to 20, but not change the above variable x."
   ]
  },
  {
   "cell_type": "markdown",
   "metadata": {},
   "source": [
    "\n",
    "  This is intended to isolate the world of the function from the\n",
    "  rest of the program. A function should not depend (in general) on anything\n",
    "  except the arguments that are passed in as an argument.\n",
    "\n",
    "  This way, the function can be reused in multiple contexts.\n",
    "  If the function changes the value passed in, the new value can be assigned to the previosu variable:"
   ]
  },
  {
   "cell_type": "markdown",
   "metadata": {},
   "source": [
    "  # Iteration\n",
    "  The keyword `for` is used to iterate over a sequence. A sequence can be\n",
    "  defined using brackets. For instance, [1,2] is a sequence that contains the\n",
    "  integer 1 in the 0 index, and the integere 2 in the 1 location. The first\n",
    "  location of a sequence is 0.\n"
   ]
  },
  {
   "cell_type": "markdown",
   "metadata": {},
   "source": [
    "  name of a local variable that each value will be bound to, then  the keyword\n",
    "  `in` followed by the sequence to iterate over:"
   ]
  },
  {
   "cell_type": "markdown",
   "metadata": {},
   "source": [
    "\n",
    "  You can generate a sequence to iterate a specified number of\n",
    "  times using the `range` method:"
   ]
  },
  {
   "cell_type": "markdown",
   "metadata": {},
   "source": [
    "  # While loop\n",
    "  The while loop will continue executing until the expression after it is true.\n",
    "  This is useful if you don't know when the loop will end, whereas the `for`\n",
    "  loop is often called \"definite iteration\" for this reason."
   ]
  },
  {
   "cell_type": "markdown",
   "metadata": {},
   "source": [
    "  # Random\n",
    "  `random` is a module that contains useful functions. You import modules using\n",
    "  the 'import' keyword, and call methods using the '.' operator. One useful\n",
    "  method in the random function is the randint, which returns a random integere\n",
    "  between the two arguments."
   ]
  },
  {
   "cell_type": "markdown",
   "metadata": {},
   "source": [
    "\n",
    "  Write a function, `sum_random`, that returns the sum of x random numbers\n",
    "  between 1 and 100.\n",
    "\n",
    "  The function should accept a single argument. For instance, sum_random(2)\n",
    "  would sum two numbers between 1 and 100: 34 and 16 and return the value 50."
   ]
  },
  {
   "cell_type": "code",
   "execution_count": 0,
   "metadata": {},
   "outputs": [],
   "source": []
  }
 ],
 "metadata": {
  "file_extension": ".py",
  "kernelspec": {
   "display_name": "Python 3",
   "language": "python",
   "name": "python3"
  },
  "language_info": {
   "codemirror_mode": {
    "name": "ipython",
    "version": 3
   },
   "file_extension": ".py",
   "mimetype": "text/x-python",
   "name": "python",
   "nbconvert_exporter": "python",
   "pygments_lexer": "ipython3",
   "version": "3.7.3"
  },
  "mimetype": "text/x-python",
  "name": "python",
  "npconvert_exporter": "python",
  "pygments_lexer": "ipython3",
  "version": 3
 },
 "nbformat": 4,
 "nbformat_minor": 2
}
